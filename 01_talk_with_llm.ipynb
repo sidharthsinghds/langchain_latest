{
 "cells": [
  {
   "cell_type": "markdown",
   "metadata": {},
   "source": [
    "# Load Completion Model"
   ]
  },
  {
   "cell_type": "code",
   "execution_count": 2,
   "metadata": {},
   "outputs": [],
   "source": [
    "import os \n",
    "from dotenv import load_dotenv, find_dotenv\n",
    "_ = load_dotenv(find_dotenv())\n",
    "openai_api_key = os.environ[\"OPENAI_API_KEY\"]"
   ]
  },
  {
   "cell_type": "code",
   "execution_count": 3,
   "metadata": {},
   "outputs": [],
   "source": [
    "# Completion Model\n",
    "from langchain_openai import OpenAI\n",
    "\n",
    "llmModel = OpenAI()\n"
   ]
  },
  {
   "cell_type": "code",
   "execution_count": 5,
   "metadata": {},
   "outputs": [
    {
     "name": "stdout",
     "output_type": "stream",
     "text": [
      "\n",
      "\n",
      "Sachin Tendulkar is the only cricketer in history to have scored 100 international centuries, making him one of the greatest batsmen of all time.\n"
     ]
    }
   ],
   "source": [
    "response = llmModel.invoke(\"Tell me one fact about Sachin Tendulkar. \")\n",
    "print(response)"
   ]
  },
  {
   "cell_type": "code",
   "execution_count": 6,
   "metadata": {},
   "outputs": [
    {
     "name": "stdout",
     "output_type": "stream",
     "text": [
      "\n",
      "\n",
      "Virat Kohli is an Indian cricketer and the current captain of the Indian national cricket team in all formats. He was born on November 5, 1988, in Delhi, India. Kohli started playing cricket at a young age and was trained at the West Delhi Cricket Academy. He made his international debut in 2008 against Sri Lanka at the age of 19.\n",
      "\n",
      "Kohli is known for his aggressive and dynamic style of play, making him one of the most successful and popular cricketers in the world. He is a right-handed top-order batsman and is also an occasional right-arm medium pace bowler. His batting prowess and ability to score runs consistently have earned him the nickname \"Run Machine.\"\n",
      "\n",
      "Kohli has achieved numerous milestones in his career, including being the fastest batsman to reach 10,000 runs in ODI cricket and the first Indian batsman to score three centuries in his first three innings as Test captain. He has also been the recipient of several awards, including the ICC ODI Player of the Year in 2012, 2017, and 2018, and the Arjuna Award in 2013 and the Padma Shri in 2017.\n",
      "\n",
      "Apart from his exceptional skills on"
     ]
    }
   ],
   "source": [
    "# for streaming responses\n",
    "\n",
    "for chunk in llmModel.stream(\n",
    "    \"Tell me something about Virat Kohli. Please provide all the details in 200 words\"\n",
    "):\n",
    "    print(chunk, end=\"\", flush=True)"
   ]
  },
  {
   "cell_type": "code",
   "execution_count": 8,
   "metadata": {},
   "outputs": [
    {
     "name": "stdout",
     "output_type": "stream",
     "text": [
      "\n",
      "\n",
      "Sachin Tendulkar, the little master,\n",
      "Batting like a speedy disaster.\n",
      "From Mumbai to the world, he's known,\n",
      "With his willow, he's always shone.\n",
      "\n",
      "With a flick of his wrist,\n",
      "He sends the ball into a twist.\n",
      "A legend on the cricket field,\n",
      "His runs, to the opposition, never yield.\n",
      "\n",
      "With centuries and records galore,\n",
      "He's left the whole world in awe.\n",
      "A true inspiration, a role model too,\n",
      "Sachin, we all look up to you.\n",
      "\n",
      "Twenty four years, he ruled the game,\n",
      "And still, we chant his name.\n",
      "A champion in every way,\n",
      "Sachin Tendulkar, forever we'll say \"Hurray!\"\n"
     ]
    }
   ],
   "source": [
    "## Configuring the model\n",
    "creative_llmModel = OpenAI(temperature=0.9)\n",
    "response = creative_llmModel.invoke(\"Write a short fun poem about Sachin Tendulkar. \")\n",
    "print(response)"
   ]
  },
  {
   "cell_type": "markdown",
   "metadata": {},
   "source": [
    "# Load Chat Model"
   ]
  },
  {
   "cell_type": "code",
   "execution_count": 9,
   "metadata": {},
   "outputs": [],
   "source": [
    "from langchain_openai import ChatOpenAI\n",
    "\n",
    "chatModel = ChatOpenAI(model=\"gpt-3.5-turbo-0125\")"
   ]
  },
  {
   "cell_type": "code",
   "execution_count": 11,
   "metadata": {},
   "outputs": [
    {
     "name": "stdout",
     "output_type": "stream",
     "text": [
      "Sir Viv Richards, a king of the cricket field,\n",
      "With a bat in hand, his power revealed.\n",
      "His swagger and style, unmatched and bold,\n",
      "A legend of the game, a story untold.\n",
      "\n",
      "Dominating bowlers with ease and grace,\n",
      "His presence alone put fear in their face.\n",
      "A master of aggression, a sight to behold,\n",
      "Sir Viv Richards, a champion so bold.\n",
      "\n",
      "In the heat of battle, he stood tall,\n",
      "Defying the odds, he conquered them all.\n",
      "With each stroke of his bat, he wrote history,\n",
      "Sir Viv Richards, a cricketing mystery.\n",
      "\n",
      "A warrior on the pitch, a hero to many,\n",
      "His legacy lives on, bright as a penny.\n",
      "Sir Viv Richards, a legend so true,\n",
      "In the annals of cricket, forever anew.\n"
     ]
    }
   ],
   "source": [
    "messages = [\n",
    "    (\"system\", \"you are a cricket expert, covering the cricket since the 1980s\"),\n",
    "    (\"human\", \"Write a short poem on Sir Viv Richards\")\n",
    "]\n",
    "response = chatModel.invoke(messages)\n",
    "print(response.content)"
   ]
  },
  {
   "cell_type": "code",
   "execution_count": 12,
   "metadata": {},
   "outputs": [
    {
     "data": {
      "text/plain": [
       "{'token_usage': {'completion_tokens': 159,\n",
       "  'prompt_tokens': 34,\n",
       "  'total_tokens': 193,\n",
       "  'completion_tokens_details': {'accepted_prediction_tokens': 0,\n",
       "   'audio_tokens': 0,\n",
       "   'reasoning_tokens': 0,\n",
       "   'rejected_prediction_tokens': 0},\n",
       "  'prompt_tokens_details': {'audio_tokens': 0, 'cached_tokens': 0}},\n",
       " 'model_name': 'gpt-3.5-turbo-0125',\n",
       " 'system_fingerprint': None,\n",
       " 'finish_reason': 'stop',\n",
       " 'logprobs': None}"
      ]
     },
     "execution_count": 12,
     "metadata": {},
     "output_type": "execute_result"
    }
   ],
   "source": [
    "## metadata\n",
    "response.response_metadata"
   ]
  },
  {
   "cell_type": "code",
   "execution_count": 14,
   "metadata": {},
   "outputs": [
    {
     "data": {
      "text/plain": [
       "{'title': 'AIMessage',\n",
       " 'description': 'Message from an AI.\\n\\nAIMessage is returned from a chat model as a response to a prompt.\\n\\nThis message represents the output of the model and consists of both\\nthe raw output as returned by the model together standardized fields\\n(e.g., tool calls, usage metadata) added by the LangChain framework.',\n",
       " 'type': 'object',\n",
       " 'properties': {'content': {'title': 'Content',\n",
       "   'anyOf': [{'type': 'string'},\n",
       "    {'type': 'array',\n",
       "     'items': {'anyOf': [{'type': 'string'}, {'type': 'object'}]}}]},\n",
       "  'additional_kwargs': {'title': 'Additional Kwargs', 'type': 'object'},\n",
       "  'response_metadata': {'title': 'Response Metadata', 'type': 'object'},\n",
       "  'type': {'title': 'Type', 'default': 'ai', 'enum': ['ai'], 'type': 'string'},\n",
       "  'name': {'title': 'Name', 'type': 'string'},\n",
       "  'id': {'title': 'Id', 'type': 'string'},\n",
       "  'example': {'title': 'Example', 'default': False, 'type': 'boolean'},\n",
       "  'tool_calls': {'title': 'Tool Calls',\n",
       "   'default': [],\n",
       "   'type': 'array',\n",
       "   'items': {'$ref': '#/definitions/ToolCall'}},\n",
       "  'invalid_tool_calls': {'title': 'Invalid Tool Calls',\n",
       "   'default': [],\n",
       "   'type': 'array',\n",
       "   'items': {'$ref': '#/definitions/InvalidToolCall'}},\n",
       "  'usage_metadata': {'$ref': '#/definitions/UsageMetadata'}},\n",
       " 'required': ['content'],\n",
       " 'definitions': {'ToolCall': {'title': 'ToolCall',\n",
       "   'type': 'object',\n",
       "   'properties': {'name': {'title': 'Name', 'type': 'string'},\n",
       "    'args': {'title': 'Args', 'type': 'object'},\n",
       "    'id': {'title': 'Id', 'type': 'string'},\n",
       "    'type': {'title': 'Type', 'enum': ['tool_call'], 'type': 'string'}},\n",
       "   'required': ['name', 'args', 'id']},\n",
       "  'InvalidToolCall': {'title': 'InvalidToolCall',\n",
       "   'type': 'object',\n",
       "   'properties': {'name': {'title': 'Name', 'type': 'string'},\n",
       "    'args': {'title': 'Args', 'type': 'string'},\n",
       "    'id': {'title': 'Id', 'type': 'string'},\n",
       "    'error': {'title': 'Error', 'type': 'string'},\n",
       "    'type': {'title': 'Type',\n",
       "     'enum': ['invalid_tool_call'],\n",
       "     'type': 'string'}},\n",
       "   'required': ['name', 'args', 'id', 'error']},\n",
       "  'UsageMetadata': {'title': 'UsageMetadata',\n",
       "   'type': 'object',\n",
       "   'properties': {'input_tokens': {'title': 'Input Tokens', 'type': 'integer'},\n",
       "    'output_tokens': {'title': 'Output Tokens', 'type': 'integer'},\n",
       "    'total_tokens': {'title': 'Total Tokens', 'type': 'integer'}},\n",
       "   'required': ['input_tokens', 'output_tokens', 'total_tokens']}}}"
      ]
     },
     "execution_count": 14,
     "metadata": {},
     "output_type": "execute_result"
    }
   ],
   "source": [
    "## Schema\n",
    "response.schema()"
   ]
  },
  {
   "cell_type": "code",
   "execution_count": 16,
   "metadata": {},
   "outputs": [
    {
     "name": "stdout",
     "output_type": "stream",
     "text": [
      "In the heart of the game, a legend arose,  \n",
      "Kapil Dev, the all-rounder, the world he chose.  \n",
      "With bat like a wand, and ball that would sing,  \n",
      "He danced through the pitch, a true cricketing king.  \n",
      "\n",
      "From the dusty fields to the grandest of stages,  \n",
      "He led with a spirit that history engages.  \n",
      "In '83, he forged a path so bright,  \n",
      "A World Cup glory, a nation's delight.  \n",
      "\n",
      "With a flick of his wrist, and a roar from the crowd,  \n",
      "He conquered the game, standing tall and proud.  \n",
      "A hero, a mentor, in every fan's heart,  \n",
      "Kapil Dev, forever, a cricketing art.  \n"
     ]
    }
   ],
   "source": [
    "## Loading GPT4o model\n",
    "\n",
    "llm = ChatOpenAI(model=\"gpt-4o-mini\")\n",
    "messages = [\n",
    "    (\"system\", \"you are a cricket expert, covering the cricket since the 1980s\"),\n",
    "    (\"human\", \"Write a short poem on Kapil Dev\")\n",
    "]\n",
    "response = llm.invoke(messages)\n",
    "print(response.content)"
   ]
  },
  {
   "cell_type": "markdown",
   "metadata": {},
   "source": [
    "# Loading Alternative Model using Groq"
   ]
  },
  {
   "cell_type": "code",
   "execution_count": 17,
   "metadata": {},
   "outputs": [],
   "source": [
    "import os\n",
    "from dotenv import load_dotenv, find_dotenv\n",
    "_ = load_dotenv(find_dotenv())"
   ]
  },
  {
   "cell_type": "code",
   "execution_count": 19,
   "metadata": {},
   "outputs": [
    {
     "name": "stdout",
     "output_type": "stream",
     "text": [
      "Here's a short poem on Yuvraj Singh:\n",
      "\n",
      "The prince of Punjab, a hero true,\n",
      "Yuvraj Singh, a name etched in cricket's cue.\n",
      "Fearless and flamboyant, with willow in hand,\n",
      "He danced down the track, a joy to withstand.\n",
      "\n",
      "Six sixes in an over, a feat so rare,\n",
      "Against Stuart Broad, his legend was shared.\n",
      "In the 2011 World Cup, his star shone bright,\n",
      "Player of the tournament, a crowning delight.\n",
      "\n",
      "Through trials and tribulations, he stood tall,\n",
      "Cancer and comeback, his spirit did enthrall.\n",
      "A warrior on the field, with a heart of gold,\n",
      "Yuvraj Singh, a cricketing legend to behold.\n"
     ]
    }
   ],
   "source": [
    "from langchain_groq import ChatGroq\n",
    "\n",
    "llama_chat_model = ChatGroq(\n",
    "    model=\"llama3-70b-8192\"\n",
    ")\n",
    "messages = [\n",
    "    (\"system\", \"you are a cricket expert, covering the cricket since the 1980s\"),\n",
    "    (\"human\", \"Write a short poem on Yuvraj Singh\")\n",
    "]\n",
    "response = llama_chat_model.invoke(messages)\n",
    "print(response.content)"
   ]
  },
  {
   "cell_type": "code",
   "execution_count": null,
   "metadata": {},
   "outputs": [],
   "source": []
  }
 ],
 "metadata": {
  "kernelspec": {
   "display_name": "env",
   "language": "python",
   "name": "python3"
  },
  "language_info": {
   "codemirror_mode": {
    "name": "ipython",
    "version": 3
   },
   "file_extension": ".py",
   "mimetype": "text/x-python",
   "name": "python",
   "nbconvert_exporter": "python",
   "pygments_lexer": "ipython3",
   "version": "3.11.10"
  }
 },
 "nbformat": 4,
 "nbformat_minor": 2
}
